{
 "cells": [
  {
   "cell_type": "code",
   "execution_count": 1,
   "outputs": [],
   "source": [
    "#%matplotlib inline\n",
    "import time\n",
    "import cv2\n",
    "\n",
    "import numpy as np\n",
    "from skimage.color import rgb2gray\n",
    "\n",
    "import matplotlib.pyplot as plt\n",
    "from IPython import display"
   ],
   "metadata": {
    "collapsed": false,
    "pycharm": {
     "name": "#%%\n"
    }
   }
  },
  {
   "cell_type": "code",
   "execution_count": 2,
   "outputs": [],
   "source": [
    "plt.rcParams['text.color'] = 'w'\n",
    "plt.rcParams['xtick.color'] = 'w'\n",
    "plt.rcParams['ytick.color'] = 'w'\n",
    "plt.rcParams['axes.labelcolor'] = 'w'\n",
    "font = {'family' : 'DejaVu Sans',\n",
    "        'weight' : 'normal',\n",
    "        'size'   : 18}\n",
    "\n",
    "plt.rc('font', **font)"
   ],
   "metadata": {
    "collapsed": false,
    "pycharm": {
     "name": "#%%\n"
    }
   }
  },
  {
   "cell_type": "code",
   "execution_count": 3,
   "outputs": [],
   "source": [
    "video_path = 'imgs/traffic.avi'\n",
    "video_capture = cv2.VideoCapture(video_path)"
   ],
   "metadata": {
    "collapsed": false,
    "pycharm": {
     "name": "#%%\n"
    }
   }
  },
  {
   "cell_type": "code",
   "execution_count": 4,
   "outputs": [],
   "source": [
    "while video_capture.isOpened():\n",
    "    _, frame = video_capture.read()\n",
    "    if not frame is None:\n",
    "        plt.imshow(frame)\n",
    "        plt.draw()\n",
    "        display.clear_output(wait=True)\n",
    "        display.display(plt.gcf())\n",
    "        time.sleep(.01)\n",
    "    else:\n",
    "        plt.draw()\n",
    "        display.clear_output(wait=True)\n",
    "        display.display(plt.gcf())\n",
    "        time.sleep(.01)\n",
    "        break"
   ],
   "metadata": {
    "collapsed": false,
    "pycharm": {
     "name": "#%%\n"
    }
   }
  },
  {
   "cell_type": "code",
   "execution_count": 5,
   "outputs": [
    {
     "ename": "TypeError",
     "evalue": "Image data of dtype object cannot be converted to float",
     "output_type": "error",
     "traceback": [
      "\u001B[1;31m---------------------------------------------------------------------------\u001B[0m",
      "\u001B[1;31mTypeError\u001B[0m                                 Traceback (most recent call last)",
      "\u001B[1;32m<ipython-input-5-d8a496f58a51>\u001B[0m in \u001B[0;36m<module>\u001B[1;34m\u001B[0m\n\u001B[0;32m     12\u001B[0m \u001B[0mplt\u001B[0m\u001B[1;33m.\u001B[0m\u001B[0mfigure\u001B[0m\u001B[1;33m(\u001B[0m\u001B[0mfigsize\u001B[0m\u001B[1;33m=\u001B[0m\u001B[1;33m(\u001B[0m\u001B[1;36m15\u001B[0m\u001B[1;33m,\u001B[0m\u001B[1;36m10\u001B[0m\u001B[1;33m)\u001B[0m\u001B[1;33m)\u001B[0m\u001B[1;33m\u001B[0m\u001B[1;33m\u001B[0m\u001B[0m\n\u001B[0;32m     13\u001B[0m \u001B[0mplt\u001B[0m\u001B[1;33m.\u001B[0m\u001B[0msubplot\u001B[0m\u001B[1;33m(\u001B[0m\u001B[1;36m121\u001B[0m\u001B[1;33m)\u001B[0m\u001B[1;33m\u001B[0m\u001B[1;33m\u001B[0m\u001B[0m\n\u001B[1;32m---> 14\u001B[1;33m \u001B[0mplt\u001B[0m\u001B[1;33m.\u001B[0m\u001B[0mimshow\u001B[0m\u001B[1;33m(\u001B[0m\u001B[0mbackground_image\u001B[0m\u001B[1;33m)\u001B[0m\u001B[1;33m\u001B[0m\u001B[1;33m\u001B[0m\u001B[0m\n\u001B[0m\u001B[0;32m     15\u001B[0m \u001B[0mplt\u001B[0m\u001B[1;33m.\u001B[0m\u001B[0mtitle\u001B[0m\u001B[1;33m(\u001B[0m\u001B[1;34m\"background_image\"\u001B[0m\u001B[1;33m)\u001B[0m\u001B[1;33m\u001B[0m\u001B[1;33m\u001B[0m\u001B[0m\n\u001B[0;32m     16\u001B[0m \u001B[0mplt\u001B[0m\u001B[1;33m.\u001B[0m\u001B[0msubplot\u001B[0m\u001B[1;33m(\u001B[0m\u001B[1;36m122\u001B[0m\u001B[1;33m)\u001B[0m\u001B[1;33m\u001B[0m\u001B[1;33m\u001B[0m\u001B[0m\n",
      "\u001B[1;32mC:\\ProgramData\\Anaconda3\\envs\\Computer_Vision\\lib\\site-packages\\matplotlib\\pyplot.py\u001B[0m in \u001B[0;36mimshow\u001B[1;34m(X, cmap, norm, aspect, interpolation, alpha, vmin, vmax, origin, extent, filternorm, filterrad, resample, url, data, **kwargs)\u001B[0m\n\u001B[0;32m   2706\u001B[0m         \u001B[0mfilternorm\u001B[0m\u001B[1;33m=\u001B[0m\u001B[1;32mTrue\u001B[0m\u001B[1;33m,\u001B[0m \u001B[0mfilterrad\u001B[0m\u001B[1;33m=\u001B[0m\u001B[1;36m4.0\u001B[0m\u001B[1;33m,\u001B[0m \u001B[0mresample\u001B[0m\u001B[1;33m=\u001B[0m\u001B[1;32mNone\u001B[0m\u001B[1;33m,\u001B[0m \u001B[0murl\u001B[0m\u001B[1;33m=\u001B[0m\u001B[1;32mNone\u001B[0m\u001B[1;33m,\u001B[0m\u001B[1;33m\u001B[0m\u001B[1;33m\u001B[0m\u001B[0m\n\u001B[0;32m   2707\u001B[0m         data=None, **kwargs):\n\u001B[1;32m-> 2708\u001B[1;33m     __ret = gca().imshow(\n\u001B[0m\u001B[0;32m   2709\u001B[0m         \u001B[0mX\u001B[0m\u001B[1;33m,\u001B[0m \u001B[0mcmap\u001B[0m\u001B[1;33m=\u001B[0m\u001B[0mcmap\u001B[0m\u001B[1;33m,\u001B[0m \u001B[0mnorm\u001B[0m\u001B[1;33m=\u001B[0m\u001B[0mnorm\u001B[0m\u001B[1;33m,\u001B[0m \u001B[0maspect\u001B[0m\u001B[1;33m=\u001B[0m\u001B[0maspect\u001B[0m\u001B[1;33m,\u001B[0m\u001B[1;33m\u001B[0m\u001B[1;33m\u001B[0m\u001B[0m\n\u001B[0;32m   2710\u001B[0m         \u001B[0minterpolation\u001B[0m\u001B[1;33m=\u001B[0m\u001B[0minterpolation\u001B[0m\u001B[1;33m,\u001B[0m \u001B[0malpha\u001B[0m\u001B[1;33m=\u001B[0m\u001B[0malpha\u001B[0m\u001B[1;33m,\u001B[0m \u001B[0mvmin\u001B[0m\u001B[1;33m=\u001B[0m\u001B[0mvmin\u001B[0m\u001B[1;33m,\u001B[0m\u001B[1;33m\u001B[0m\u001B[1;33m\u001B[0m\u001B[0m\n",
      "\u001B[1;32mC:\\ProgramData\\Anaconda3\\envs\\Computer_Vision\\lib\\site-packages\\matplotlib\\__init__.py\u001B[0m in \u001B[0;36minner\u001B[1;34m(ax, data, *args, **kwargs)\u001B[0m\n\u001B[0;32m   1436\u001B[0m     \u001B[1;32mdef\u001B[0m \u001B[0minner\u001B[0m\u001B[1;33m(\u001B[0m\u001B[0max\u001B[0m\u001B[1;33m,\u001B[0m \u001B[1;33m*\u001B[0m\u001B[0margs\u001B[0m\u001B[1;33m,\u001B[0m \u001B[0mdata\u001B[0m\u001B[1;33m=\u001B[0m\u001B[1;32mNone\u001B[0m\u001B[1;33m,\u001B[0m \u001B[1;33m**\u001B[0m\u001B[0mkwargs\u001B[0m\u001B[1;33m)\u001B[0m\u001B[1;33m:\u001B[0m\u001B[1;33m\u001B[0m\u001B[1;33m\u001B[0m\u001B[0m\n\u001B[0;32m   1437\u001B[0m         \u001B[1;32mif\u001B[0m \u001B[0mdata\u001B[0m \u001B[1;32mis\u001B[0m \u001B[1;32mNone\u001B[0m\u001B[1;33m:\u001B[0m\u001B[1;33m\u001B[0m\u001B[1;33m\u001B[0m\u001B[0m\n\u001B[1;32m-> 1438\u001B[1;33m             \u001B[1;32mreturn\u001B[0m \u001B[0mfunc\u001B[0m\u001B[1;33m(\u001B[0m\u001B[0max\u001B[0m\u001B[1;33m,\u001B[0m \u001B[1;33m*\u001B[0m\u001B[0mmap\u001B[0m\u001B[1;33m(\u001B[0m\u001B[0msanitize_sequence\u001B[0m\u001B[1;33m,\u001B[0m \u001B[0margs\u001B[0m\u001B[1;33m)\u001B[0m\u001B[1;33m,\u001B[0m \u001B[1;33m**\u001B[0m\u001B[0mkwargs\u001B[0m\u001B[1;33m)\u001B[0m\u001B[1;33m\u001B[0m\u001B[1;33m\u001B[0m\u001B[0m\n\u001B[0m\u001B[0;32m   1439\u001B[0m \u001B[1;33m\u001B[0m\u001B[0m\n\u001B[0;32m   1440\u001B[0m         \u001B[0mbound\u001B[0m \u001B[1;33m=\u001B[0m \u001B[0mnew_sig\u001B[0m\u001B[1;33m.\u001B[0m\u001B[0mbind\u001B[0m\u001B[1;33m(\u001B[0m\u001B[0max\u001B[0m\u001B[1;33m,\u001B[0m \u001B[1;33m*\u001B[0m\u001B[0margs\u001B[0m\u001B[1;33m,\u001B[0m \u001B[1;33m**\u001B[0m\u001B[0mkwargs\u001B[0m\u001B[1;33m)\u001B[0m\u001B[1;33m\u001B[0m\u001B[1;33m\u001B[0m\u001B[0m\n",
      "\u001B[1;32mC:\\ProgramData\\Anaconda3\\envs\\Computer_Vision\\lib\\site-packages\\matplotlib\\axes\\_axes.py\u001B[0m in \u001B[0;36mimshow\u001B[1;34m(self, X, cmap, norm, aspect, interpolation, alpha, vmin, vmax, origin, extent, filternorm, filterrad, resample, url, **kwargs)\u001B[0m\n\u001B[0;32m   5521\u001B[0m                               resample=resample, **kwargs)\n\u001B[0;32m   5522\u001B[0m \u001B[1;33m\u001B[0m\u001B[0m\n\u001B[1;32m-> 5523\u001B[1;33m         \u001B[0mim\u001B[0m\u001B[1;33m.\u001B[0m\u001B[0mset_data\u001B[0m\u001B[1;33m(\u001B[0m\u001B[0mX\u001B[0m\u001B[1;33m)\u001B[0m\u001B[1;33m\u001B[0m\u001B[1;33m\u001B[0m\u001B[0m\n\u001B[0m\u001B[0;32m   5524\u001B[0m         \u001B[0mim\u001B[0m\u001B[1;33m.\u001B[0m\u001B[0mset_alpha\u001B[0m\u001B[1;33m(\u001B[0m\u001B[0malpha\u001B[0m\u001B[1;33m)\u001B[0m\u001B[1;33m\u001B[0m\u001B[1;33m\u001B[0m\u001B[0m\n\u001B[0;32m   5525\u001B[0m         \u001B[1;32mif\u001B[0m \u001B[0mim\u001B[0m\u001B[1;33m.\u001B[0m\u001B[0mget_clip_path\u001B[0m\u001B[1;33m(\u001B[0m\u001B[1;33m)\u001B[0m \u001B[1;32mis\u001B[0m \u001B[1;32mNone\u001B[0m\u001B[1;33m:\u001B[0m\u001B[1;33m\u001B[0m\u001B[1;33m\u001B[0m\u001B[0m\n",
      "\u001B[1;32mC:\\ProgramData\\Anaconda3\\envs\\Computer_Vision\\lib\\site-packages\\matplotlib\\image.py\u001B[0m in \u001B[0;36mset_data\u001B[1;34m(self, A)\u001B[0m\n\u001B[0;32m    694\u001B[0m         if (self._A.dtype != np.uint8 and\n\u001B[0;32m    695\u001B[0m                 not np.can_cast(self._A.dtype, float, \"same_kind\")):\n\u001B[1;32m--> 696\u001B[1;33m             raise TypeError(\"Image data of dtype {} cannot be converted to \"\n\u001B[0m\u001B[0;32m    697\u001B[0m                             \"float\".format(self._A.dtype))\n\u001B[0;32m    698\u001B[0m \u001B[1;33m\u001B[0m\u001B[0m\n",
      "\u001B[1;31mTypeError\u001B[0m: Image data of dtype object cannot be converted to float"
     ]
    },
    {
     "data": {
      "text/plain": "<Figure size 1080x720 with 1 Axes>",
      "image/png": "[encoded data removed]"
     },
     "metadata": {
      "needs_background": "dark"
     },
     "output_type": "display_data"
    }
   ],
   "source": [
    "width  = int(video_capture.get(cv2.CAP_PROP_FRAME_HEIGHT))\n",
    "height = int(video_capture.get(cv2.CAP_PROP_FRAME_WIDTH))\n",
    "length = int(video_capture.get(cv2.CAP_PROP_FRAME_COUNT))\n",
    "fps = int(video_capture.get(cv2.CAP_PROP_FPS))\n",
    "\n",
    "video_capture.set(cv2.CAP_PROP_POS_FRAMES,0)\n",
    "_, background_image = video_capture.read()\n",
    "\n",
    "video_capture.set(cv2.CAP_PROP_POS_FRAMES, 67)\n",
    "_, image_with_cars = video_capture.read()\n",
    "\n",
    "plt.figure(figsize=(15,10))\n",
    "plt.subplot(121)\n",
    "plt.imshow(background_image)\n",
    "plt.title(\"background_image\")\n",
    "plt.subplot(122)\n",
    "plt.title(\"Image wit cars\")\n",
    "plt.imshow(image_with_cars)"
   ],
   "metadata": {
    "collapsed": false,
    "pycharm": {
     "name": "#%%\n"
    }
   }
  },
  {
   "cell_type": "code",
   "execution_count": null,
   "outputs": [],
   "source": [
    "from skimage.measure import label, regionprops, regionprops_table\n",
    "from skimage import morphology\n",
    "\n",
    "diff_image = np.abs(rgb2gray(background_image) - rgb2gray(image_with_cars))\n",
    "\n",
    "diff_thresholded = diff_image*255 > 20\n",
    "\n",
    "plt.figure(figsize=(15,10))\n",
    "plt.subplot(121)\n",
    "plt.imshow(diff_thresholded)\n",
    "plt.title(\"background_image\")\n",
    "plt.subplot(122)\n",
    "plt.title(\"Image wit cars\")\n",
    "plt.imshow(diff_image)"
   ],
   "metadata": {
    "collapsed": false,
    "pycharm": {
     "name": "#%%\n"
    }
   }
  },
  {
   "cell_type": "code",
   "execution_count": null,
   "outputs": [],
   "source": [
    "diff_thresholded = morphology.opening(\n",
    "    morphology.remove_small_holes(diff_thresholded,area_threshold=64),\n",
    "    selem=morphology.selem.rectangle(8,8))\n",
    "plt.figure(figsize=(15,10))\n",
    "plt.subplot(121)\n",
    "plt.imshow(diff_thresholded)\n",
    "\n",
    "label_img = label(diff_thresholded)\n",
    "regions = regionprops(label_img)\n",
    "plt.subplot(122)\n",
    "plt.imshow(label_img)"
   ],
   "metadata": {
    "collapsed": false,
    "pycharm": {
     "name": "#%%\n"
    }
   }
  },
  {
   "cell_type": "code",
   "execution_count": null,
   "outputs": [],
   "source": [
    "import matplotlib.patches as patches\n",
    "plt.figure(figsize=(15,10))\n",
    "fig,ax = plt.subplots(1)\n",
    "ax.imshow(image_with_cars)\n",
    "\n",
    "for region in regions:\n",
    "    centroid_viz =patches.Circle((region.centroid[1], region.centroid[0]))\n",
    "    ax.add_patch(centroid_viz)"
   ],
   "metadata": {
    "collapsed": false,
    "pycharm": {
     "name": "#%%\n"
    }
   }
  },
  {
   "cell_type": "code",
   "execution_count": null,
   "outputs": [],
   "source": [
    "from skimage.draw import disk\n",
    "video_capture = cv2.VideoCapture(video_path)\n",
    "\n",
    "fourcc = cv2.VideoWriter_fourcc(*'XVID')\n",
    "out = cv2.VideoWriter('./imgs/tagged_cars.avi',fourcc, fps, (height,width))\n",
    "\n",
    "while(video_capture.isOpened()):\n",
    "    ret, frame = video_capture.read()\n",
    "    if ret==True:\n",
    "        #1 Detekcia objektov\n",
    "        diff_image = np.abs(rgb2gray(background_image) - rgb2gray(frame))\n",
    "        #2 Prahovanie objektov\n",
    "        diff_thresholded = diff_image*255 > 20\n",
    "        #3 Morfologicke operacie\n",
    "        diff_thresholded = morphology.opening(\n",
    "        morphology.remove_small_holes(diff_thresholded,area_threshold=64),\n",
    "        selem=morphology.selem.rectangle(8,8))\n",
    "\n",
    "        label_img = label(diff_thresholded)\n",
    "        regions = regionprops(label_img)\n",
    "        #4 Uprava vystupu na zaklade\n",
    "        for region in regions:\n",
    "            rr, cc = disk((region.centroid[0], region.centroid[1]), 1)\n",
    "            frame[rr, cc,:2] = 0\n",
    "            frame[rr, cc, 2] = 255\n",
    "\n",
    "\n",
    "        out.write(frame)\n",
    "    else:\n",
    "        break\n",
    "\n",
    "video_capture.release()\n",
    "out.release()\n",
    "# DU 74-77"
   ],
   "metadata": {
    "collapsed": false,
    "pycharm": {
     "name": "#%%\n"
    }
   }
  }
 ],
 "metadata": {
  "kernelspec": {
   "display_name": "Python 3",
   "language": "python",
   "name": "python3"
  },
  "language_info": {
   "codemirror_mode": {
    "name": "ipython",
    "version": 2
   },
   "file_extension": ".py",
   "mimetype": "text/x-python",
   "name": "python",
   "nbconvert_exporter": "python",
   "pygments_lexer": "ipython2",
   "version": "2.7.6"
  }
 },
 "nbformat": 4,
 "nbformat_minor": 0
}